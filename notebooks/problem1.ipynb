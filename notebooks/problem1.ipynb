{
 "cells": [
  {
   "cell_type": "code",
   "execution_count": 2,
   "metadata": {},
   "outputs": [],
   "source": [
    "import sys\n",
    "sys.path.append(\"../src\")\n",
    "\n",
    "from nat2324.algorithms import ParticleSwarmOptimization as PSO\n",
    "from nat2324.problems.objectives import Objectives\n",
    "\n",
    "%load_ext autoreload\n",
    "%autoreload 2"
   ]
  },
  {
   "cell_type": "code",
   "execution_count": 32,
   "metadata": {},
   "outputs": [
    {
     "name": "stderr",
     "output_type": "stream",
     "text": [
      "Current best 597.92186830: 100%|██████████| 1000/1000 [00:01<00:00, 870.72it/s]\n"
     ]
    },
    {
     "data": {
      "text/plain": [
       "array([-5.12, -5.12, -5.12, -5.12,  5.12,  5.12, -5.12,  5.12, -5.12,\n",
       "       -5.12,  5.12,  5.12, -5.12,  5.12,  5.12, -5.12, -5.12, -5.12,\n",
       "        5.12,  5.12])"
      ]
     },
     "execution_count": 32,
     "metadata": {},
     "output_type": "execute_result"
    }
   ],
   "source": [
    "objective = Objectives(function_type=\"rastrigin\")\n",
    "pso = PSO(fitness_fn=objective.evaluate, bounds=(-5.12, 5.12), D=20, alpha3=2)\n",
    "pso.run(patience=None, max_generations=1000)"
   ]
  },
  {
   "cell_type": "code",
   "execution_count": 35,
   "metadata": {},
   "outputs": [
    {
     "ename": "TypeError",
     "evalue": "descriptor '__weakref__' for 'Objectives' objects doesn't apply to a 'Objectives' object",
     "output_type": "error",
     "traceback": [
      "\u001b[0;31m---------------------------------------------------------------------------\u001b[0m",
      "\u001b[0;31mTypeError\u001b[0m                                 Traceback (most recent call last)",
      "\u001b[1;32m/home/mantasu/projects/nat2324/notebooks/problem1.ipynb Cell 3\u001b[0m line \u001b[0;36m2\n\u001b[1;32m     <a href='vscode-notebook-cell://wsl%2Bubuntu/home/mantasu/projects/nat2324/notebooks/problem1.ipynb#W2sdnNjb2RlLXJlbW90ZQ%3D%3D?line=24'>25</a>\u001b[0m     plt\u001b[39m.\u001b[39mshow()\n\u001b[1;32m     <a href='vscode-notebook-cell://wsl%2Bubuntu/home/mantasu/projects/nat2324/notebooks/problem1.ipynb#W2sdnNjb2RlLXJlbW90ZQ%3D%3D?line=26'>27</a>\u001b[0m objectives \u001b[39m=\u001b[39m Objectives()\n\u001b[0;32m---> <a href='vscode-notebook-cell://wsl%2Bubuntu/home/mantasu/projects/nat2324/notebooks/problem1.ipynb#W2sdnNjb2RlLXJlbW90ZQ%3D%3D?line=27'>28</a>\u001b[0m visualize_functions(objectives)\n",
      "\u001b[1;32m/home/mantasu/projects/nat2324/notebooks/problem1.ipynb Cell 3\u001b[0m line \u001b[0;36m6\n\u001b[1;32m      <a href='vscode-notebook-cell://wsl%2Bubuntu/home/mantasu/projects/nat2324/notebooks/problem1.ipynb#W2sdnNjb2RlLXJlbW90ZQ%3D%3D?line=4'>5</a>\u001b[0m \u001b[39mdef\u001b[39;00m \u001b[39mvisualize_functions\u001b[39m(objectives, max_col\u001b[39m=\u001b[39m\u001b[39m8\u001b[39m):\n\u001b[0;32m----> <a href='vscode-notebook-cell://wsl%2Bubuntu/home/mantasu/projects/nat2324/notebooks/problem1.ipynb#W2sdnNjb2RlLXJlbW90ZQ%3D%3D?line=5'>6</a>\u001b[0m     function_names \u001b[39m=\u001b[39m [func \u001b[39mfor\u001b[39;00m func \u001b[39min\u001b[39;00m \u001b[39mdir\u001b[39m(objectives) \u001b[39mif\u001b[39;00m \u001b[39mcallable\u001b[39m(\u001b[39mgetattr\u001b[39m(objectives, func)) \u001b[39mand\u001b[39;00m \u001b[39mnot\u001b[39;00m func\u001b[39m.\u001b[39mstartswith(\u001b[39m\"\u001b[39m\u001b[39m__\u001b[39m\u001b[39m\"\u001b[39m) \u001b[39mand\u001b[39;00m func \u001b[39m!=\u001b[39m \u001b[39m'\u001b[39m\u001b[39m__weakref__\u001b[39m\u001b[39m'\u001b[39m]\n\u001b[1;32m      <a href='vscode-notebook-cell://wsl%2Bubuntu/home/mantasu/projects/nat2324/notebooks/problem1.ipynb#W2sdnNjb2RlLXJlbW90ZQ%3D%3D?line=6'>7</a>\u001b[0m     \u001b[39mprint\u001b[39m(function_names)\n\u001b[1;32m      <a href='vscode-notebook-cell://wsl%2Bubuntu/home/mantasu/projects/nat2324/notebooks/problem1.ipynb#W2sdnNjb2RlLXJlbW90ZQ%3D%3D?line=7'>8</a>\u001b[0m     \u001b[39mreturn\u001b[39;00m\n",
      "\u001b[1;32m/home/mantasu/projects/nat2324/notebooks/problem1.ipynb Cell 3\u001b[0m line \u001b[0;36m6\n\u001b[1;32m      <a href='vscode-notebook-cell://wsl%2Bubuntu/home/mantasu/projects/nat2324/notebooks/problem1.ipynb#W2sdnNjb2RlLXJlbW90ZQ%3D%3D?line=4'>5</a>\u001b[0m \u001b[39mdef\u001b[39;00m \u001b[39mvisualize_functions\u001b[39m(objectives, max_col\u001b[39m=\u001b[39m\u001b[39m8\u001b[39m):\n\u001b[0;32m----> <a href='vscode-notebook-cell://wsl%2Bubuntu/home/mantasu/projects/nat2324/notebooks/problem1.ipynb#W2sdnNjb2RlLXJlbW90ZQ%3D%3D?line=5'>6</a>\u001b[0m     function_names \u001b[39m=\u001b[39m [func \u001b[39mfor\u001b[39;00m func \u001b[39min\u001b[39;00m \u001b[39mdir\u001b[39m(objectives) \u001b[39mif\u001b[39;00m \u001b[39mcallable\u001b[39m(\u001b[39mgetattr\u001b[39;49m(objectives, func)) \u001b[39mand\u001b[39;00m \u001b[39mnot\u001b[39;00m func\u001b[39m.\u001b[39mstartswith(\u001b[39m\"\u001b[39m\u001b[39m__\u001b[39m\u001b[39m\"\u001b[39m) \u001b[39mand\u001b[39;00m func \u001b[39m!=\u001b[39m \u001b[39m'\u001b[39m\u001b[39m__weakref__\u001b[39m\u001b[39m'\u001b[39m]\n\u001b[1;32m      <a href='vscode-notebook-cell://wsl%2Bubuntu/home/mantasu/projects/nat2324/notebooks/problem1.ipynb#W2sdnNjb2RlLXJlbW90ZQ%3D%3D?line=6'>7</a>\u001b[0m     \u001b[39mprint\u001b[39m(function_names)\n\u001b[1;32m      <a href='vscode-notebook-cell://wsl%2Bubuntu/home/mantasu/projects/nat2324/notebooks/problem1.ipynb#W2sdnNjb2RlLXJlbW90ZQ%3D%3D?line=7'>8</a>\u001b[0m     \u001b[39mreturn\u001b[39;00m\n",
      "\u001b[0;31mTypeError\u001b[0m: descriptor '__weakref__' for 'Objectives' objects doesn't apply to a 'Objectives' object"
     ]
    }
   ],
   "source": [
    "import numpy as np\n",
    "import matplotlib.pyplot as plt\n",
    "from mpl_toolkits.mplot3d import Axes3D\n",
    "\n",
    "def visualize_functions(objectives, max_col=8):\n",
    "    function_names = [func for func in dir(objectives) if callable(getattr(objectives, func)) and not func.startswith(\"__\") and func != '__weakref__']\n",
    "    print(function_names)\n",
    "    return\n",
    "    n = len(function_names)\n",
    "    n_cols = min(n, max_col)\n",
    "    n_rows = n // n_cols + (n % n_cols > 0)\n",
    "\n",
    "    fig = plt.figure(figsize=(n_cols * 4, n_rows * 4))\n",
    "\n",
    "    for i, function_name in enumerate(function_names, 1):\n",
    "        ax = fig.add_subplot(n_rows, n_cols, i, projection='3d')\n",
    "        x = y = np.linspace(-5, 5, 100)\n",
    "        X, Y = np.meshgrid(x, y)\n",
    "        Z = getattr(objectives, function_name)(np.array([X, Y]))\n",
    "        ax.plot_surface(X, Y, Z, rstride=1, cstride=1,\n",
    "                        cmap='viridis', edgecolor='none')\n",
    "        ax.set_title(function_name)\n",
    "\n",
    "    plt.tight_layout()\n",
    "    plt.show()\n",
    "\n",
    "objectives = Objectives()\n",
    "visualize_functions(objectives)\n"
   ]
  }
 ],
 "metadata": {
  "kernelspec": {
   "display_name": "uni",
   "language": "python",
   "name": "python3"
  },
  "language_info": {
   "codemirror_mode": {
    "name": "ipython",
    "version": 3
   },
   "file_extension": ".py",
   "mimetype": "text/x-python",
   "name": "python",
   "nbconvert_exporter": "python",
   "pygments_lexer": "ipython3",
   "version": "3.10.13"
  }
 },
 "nbformat": 4,
 "nbformat_minor": 2
}
