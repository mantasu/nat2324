{
 "cells": [
  {
   "cell_type": "code",
   "execution_count": 1,
   "metadata": {},
   "outputs": [],
   "source": [
    "import sys\n",
    "\n",
    "sys.path.append(\"../src\")\n",
    "\n",
    "from nat2324.algorithms.gp import GeneticProgrammingAlgorithm\n",
    "from nat2324.utils.gp.non_terminals import (\n",
    "    Arithmetic,\n",
    "    Comparison,\n",
    "    Indexable,\n",
    "    Logic,\n",
    "    Flow,\n",
    ")\n",
    "\n",
    "from nat2324.utils import Symbol, Terminal, GPTree\n",
    "from nat2324.problems import Sequence\n",
    "\n",
    "%load_ext autoreload\n",
    "%autoreload 2"
   ]
  },
  {
   "cell_type": "code",
   "execution_count": 69,
   "metadata": {},
   "outputs": [],
   "source": [
    "NON_TERMINALS = Symbol.validate_ps([\n",
    "    # Arithmetic.add(),\n",
    "    # Indexable.get(),\n",
    "    Indexable.push(),\n",
    "    # Flow.before_after(),\n",
    "    Flow.for_loop(),\n",
    "])\n",
    "\n",
    "TERMINALS = Symbol.validate_ps([\n",
    "    #Terminal(-2),\n",
    "    # Terminal(-1),\n",
    "    # Terminal(0),\n",
    "    # Terminal(1),\n",
    "    # Terminal(2),\n",
    "    # Terminal([]),\n",
    "    Terminal(\"s\"),\n",
    "    Terminal(\"x\"),\n",
    "])"
   ]
  },
  {
   "cell_type": "code",
   "execution_count": 70,
   "metadata": {},
   "outputs": [],
   "source": [
    "tree = GPTree.generate_tree(\n",
    "    min_depth=2,\n",
    "    max_depth=5,\n",
    "    non_terminals=NON_TERMINALS,\n",
    "    terminals=TERMINALS,\n",
    ")"
   ]
  },
  {
   "cell_type": "code",
   "execution_count": 71,
   "metadata": {},
   "outputs": [
    {
     "name": "stdout",
     "output_type": "stream",
     "text": [
      "for\n",
      "├── n\n",
      "└── push\n",
      "    ├── s\n",
      "    └── +\n",
      "        ├── get\n",
      "        │   ├── s\n",
      "        │   └── -1\n",
      "        └── get\n",
      "            ├── s\n",
      "            └── -2\n"
     ]
    },
    {
     "data": {
      "text/plain": [
       "[0, 1, 1, 2, 3, 5, 8, 13, 21, 34, 55]"
      ]
     },
     "execution_count": 71,
     "metadata": {},
     "output_type": "execute_result"
    }
   ],
   "source": [
    "fibonacci_tree = GPTree(\n",
    "    name=\"for\",\n",
    "    symbol=Flow.for_loop(),\n",
    "    children=[\n",
    "        GPTree(name=\"n\", symbol=Terminal(\"n\")),\n",
    "        GPTree(name=\"push\", symbol=Indexable.push(), children=[\n",
    "            GPTree(name=\"s\", symbol=Terminal(\"s\")),\n",
    "            GPTree(name=\"+\", symbol=Arithmetic.add(), children=[\n",
    "                GPTree(name=\"get\", symbol=Indexable.get(), children=[\n",
    "                    GPTree(name=\"s\", symbol=Terminal(\"s\")),\n",
    "                    GPTree(name=\"-1\", symbol=Terminal(-1)),\n",
    "                ]),\n",
    "                GPTree(name=\"get\", symbol=Indexable.get(), children=[\n",
    "                    GPTree(name=\"s\", symbol=Terminal(\"s\")),\n",
    "                    GPTree(name=\"-2\", symbol=Terminal(-2)),\n",
    "                ]),\n",
    "            ]),\n",
    "        ]),\n",
    "    ]\n",
    ")\n",
    "\n",
    "fibonacci_tree.show()\n",
    "fibonacci_tree(s=[0, 1], n=9)"
   ]
  },
  {
   "cell_type": "code",
   "execution_count": 72,
   "metadata": {},
   "outputs": [],
   "source": [
    "fibonacci = Sequence(\n",
    "    sequence_type=\"fibonacci\",\n",
    "    num_samples=20,\n",
    "    sample_range=(5, 35),\n",
    "    train_frac=0.8,\n",
    "    seed=0,\n",
    ")"
   ]
  },
  {
   "cell_type": "code",
   "execution_count": 105,
   "metadata": {},
   "outputs": [],
   "source": [
    "gp = GeneticProgrammingAlgorithm(\n",
    "    fitness_fn=fibonacci.evaluate,\n",
    "    min_depth=2,\n",
    "    max_depth=2,\n",
    "    N=1000,\n",
    "    p_c=0.8,\n",
    "    p_m=0.5,\n",
    "    terminals=TERMINALS,\n",
    "    non_terminals=NON_TERMINALS,\n",
    "    tournament_size=2,\n",
    "    seed=0,\n",
    ")"
   ]
  },
  {
   "cell_type": "code",
   "execution_count": 106,
   "metadata": {},
   "outputs": [
    {
     "data": {
      "application/vnd.jupyter.widget-view+json": {
       "model_id": "ec85e5a43e264569b20717cbbc9cc1c0",
       "version_major": 2,
       "version_minor": 0
      },
      "text/plain": [
       "Current best N/A:   0%|          | 0/9 [00:00<?, ?it/s]"
      ]
     },
     "metadata": {},
     "output_type": "display_data"
    }
   ],
   "source": [
    "solution, population, fitnesses = gp.run(max_generations=10, returnable=(\"solution\", \"population\", \"fitnesses\"))"
   ]
  },
  {
   "cell_type": "code",
   "execution_count": 100,
   "metadata": {},
   "outputs": [],
   "source": [
    "push_tree = GPTree(\n",
    "    name=\"for\",\n",
    "    symbol=Flow.for_loop(),\n",
    "    children=[\n",
    "        GPTree(name=\"x\", symbol=Terminal(\"x\")),\n",
    "        GPTree(name=\"push\", symbol=Indexable.push(), children=[\n",
    "            GPTree(name=\"s\", symbol=Terminal(\"s\")),\n",
    "            GPTree(name=\"x\", symbol=Terminal(\"x\")),\n",
    "        ]),\n",
    "    ]\n",
    ")"
   ]
  },
  {
   "cell_type": "code",
   "execution_count": 101,
   "metadata": {},
   "outputs": [
    {
     "name": "stdout",
     "output_type": "stream",
     "text": [
      "for\n",
      "├── x\n",
      "└── push\n",
      "    ├── s\n",
      "    └── x\n"
     ]
    }
   ],
   "source": [
    "push_tree.show()"
   ]
  },
  {
   "cell_type": "code",
   "execution_count": 116,
   "metadata": {},
   "outputs": [
    {
     "data": {
      "text/plain": [
       "[4, 4, 4, 4]"
      ]
     },
     "execution_count": 116,
     "metadata": {},
     "output_type": "execute_result"
    }
   ],
   "source": [
    "push_tree(s=[], x=4)"
   ]
  },
  {
   "cell_type": "code",
   "execution_count": 113,
   "metadata": {},
   "outputs": [
    {
     "data": {
      "text/plain": [
       "'for/x/push/s/x'"
      ]
     },
     "execution_count": 113,
     "metadata": {},
     "output_type": "execute_result"
    }
   ],
   "source": [
    "'/'.join([push_tree.name] + [d.name for d in push_tree.descendants])"
   ]
  },
  {
   "cell_type": "code",
   "execution_count": 104,
   "metadata": {},
   "outputs": [
    {
     "data": {
      "text/plain": [
       "2"
      ]
     },
     "execution_count": 104,
     "metadata": {},
     "output_type": "execute_result"
    }
   ],
   "source": [
    "push_tree.size\n",
    "push_tree.height"
   ]
  },
  {
   "cell_type": "code",
   "execution_count": 114,
   "metadata": {},
   "outputs": [
    {
     "data": {
      "text/plain": [
       "True"
      ]
     },
     "execution_count": 114,
     "metadata": {},
     "output_type": "execute_result"
    }
   ],
   "source": [
    "any(['/'.join([p.name] + [d.name for d in p.descendants]) for p in population])"
   ]
  },
  {
   "cell_type": "code",
   "execution_count": 90,
   "metadata": {},
   "outputs": [
    {
     "data": {
      "text/plain": [
       "5"
      ]
     },
     "execution_count": 90,
     "metadata": {},
     "output_type": "execute_result"
    }
   ],
   "source": [
    "population[6](s=[], x=5)"
   ]
  },
  {
   "cell_type": "code",
   "execution_count": 62,
   "metadata": {},
   "outputs": [
    {
     "data": {
      "text/plain": [
       "[0, 1]"
      ]
     },
     "execution_count": 62,
     "metadata": {},
     "output_type": "execute_result"
    }
   ],
   "source": [
    "solution(s=[], x=5)"
   ]
  },
  {
   "cell_type": "code",
   "execution_count": 57,
   "metadata": {},
   "outputs": [
    {
     "data": {
      "image/png": "[encoded data removed]",
      "text/plain": [
       "<Figure size 640x480 with 1 Axes>"
      ]
     },
     "metadata": {},
     "output_type": "display_data"
    },
    {
     "ename": "IndexError",
     "evalue": "list index out of range",
     "output_type": "error",
     "traceback": [
      "\u001b[0;31m---------------------------------------------------------------------------\u001b[0m",
      "\u001b[0;31mIndexError\u001b[0m                                Traceback (most recent call last)",
      "\u001b[1;32m/home/mantasu/projects/nat2324/notebooks/problem3.ipynb Cell 4\u001b[0m line \u001b[0;36m6\n\u001b[1;32m     <a href='vscode-notebook-cell://wsl%2Bubuntu/home/mantasu/projects/nat2324/notebooks/problem3.ipynb#X11sdnNjb2RlLXJlbW90ZQ%3D%3D?line=59'>60</a>\u001b[0m \u001b[39m# Test the execute_graph function\u001b[39;00m\n\u001b[1;32m     <a href='vscode-notebook-cell://wsl%2Bubuntu/home/mantasu/projects/nat2324/notebooks/problem3.ipynb#X11sdnNjb2RlLXJlbW90ZQ%3D%3D?line=60'>61</a>\u001b[0m inputs \u001b[39m=\u001b[39m {\u001b[39m'\u001b[39m\u001b[39mx\u001b[39m\u001b[39m'\u001b[39m: \u001b[39m1\u001b[39m, \u001b[39m'\u001b[39m\u001b[39my\u001b[39m\u001b[39m'\u001b[39m: \u001b[39m2\u001b[39m, \u001b[39m'\u001b[39m\u001b[39mz\u001b[39m\u001b[39m'\u001b[39m: \u001b[39m3\u001b[39m}\n\u001b[0;32m---> <a href='vscode-notebook-cell://wsl%2Bubuntu/home/mantasu/projects/nat2324/notebooks/problem3.ipynb#X11sdnNjb2RlLXJlbW90ZQ%3D%3D?line=61'>62</a>\u001b[0m \u001b[39mprint\u001b[39m(\u001b[39m'\u001b[39m\u001b[39mOutput:\u001b[39m\u001b[39m'\u001b[39m, execute_graph(G, inputs))\n",
      "\u001b[1;32m/home/mantasu/projects/nat2324/notebooks/problem3.ipynb Cell 4\u001b[0m line \u001b[0;36m5\n\u001b[1;32m     <a href='vscode-notebook-cell://wsl%2Bubuntu/home/mantasu/projects/nat2324/notebooks/problem3.ipynb#X11sdnNjb2RlLXJlbW90ZQ%3D%3D?line=48'>49</a>\u001b[0m     outputs[node] \u001b[39m=\u001b[39m \u001b[39msum\u001b[39m(inputs)\n\u001b[1;32m     <a href='vscode-notebook-cell://wsl%2Bubuntu/home/mantasu/projects/nat2324/notebooks/problem3.ipynb#X11sdnNjb2RlLXJlbW90ZQ%3D%3D?line=49'>50</a>\u001b[0m \u001b[39melif\u001b[39;00m function \u001b[39m==\u001b[39m \u001b[39m'\u001b[39m\u001b[39m-\u001b[39m\u001b[39m'\u001b[39m:\n\u001b[0;32m---> <a href='vscode-notebook-cell://wsl%2Bubuntu/home/mantasu/projects/nat2324/notebooks/problem3.ipynb#X11sdnNjb2RlLXJlbW90ZQ%3D%3D?line=50'>51</a>\u001b[0m     outputs[node] \u001b[39m=\u001b[39m inputs[\u001b[39m0\u001b[39;49m] \u001b[39m-\u001b[39m inputs[\u001b[39m1\u001b[39m]\n\u001b[1;32m     <a href='vscode-notebook-cell://wsl%2Bubuntu/home/mantasu/projects/nat2324/notebooks/problem3.ipynb#X11sdnNjb2RlLXJlbW90ZQ%3D%3D?line=51'>52</a>\u001b[0m \u001b[39melif\u001b[39;00m function \u001b[39m==\u001b[39m \u001b[39m'\u001b[39m\u001b[39m*\u001b[39m\u001b[39m'\u001b[39m:\n\u001b[1;32m     <a href='vscode-notebook-cell://wsl%2Bubuntu/home/mantasu/projects/nat2324/notebooks/problem3.ipynb#X11sdnNjb2RlLXJlbW90ZQ%3D%3D?line=52'>53</a>\u001b[0m     outputs[node] \u001b[39m=\u001b[39m inputs[\u001b[39m0\u001b[39m] \u001b[39m*\u001b[39m inputs[\u001b[39m1\u001b[39m]\n",
      "\u001b[0;31mIndexError\u001b[0m: list index out of range"
     ]
    }
   ],
   "source": [
    "import networkx as nx\n",
    "import matplotlib.pyplot as plt\n",
    "import random\n",
    "\n",
    "# Define the function set\n",
    "function_set = ['+', '-', '*', '/']\n",
    "\n",
    "# Define the terminal set\n",
    "terminal_set = ['x', 'y', 'z']\n",
    "\n",
    "# Define the chromosome length\n",
    "chromosome_length = 10\n",
    "\n",
    "# Initialize a chromosome with random functions and terminals\n",
    "chromosome = [random.choice(function_set + terminal_set) for _ in range(chromosome_length)]\n",
    "\n",
    "# Create a directed graph\n",
    "G = nx.DiGraph()\n",
    "\n",
    "# Add nodes to the graph based on the chromosome\n",
    "for i, gene in enumerate(chromosome):\n",
    "    G.add_node(i, function=gene)\n",
    "\n",
    "# Add edges to the graph (you would need to define this based on your problem)\n",
    "for i in range(len(chromosome)):\n",
    "    if i < len(chromosome) - 1:\n",
    "        G.add_edge(i, i+1)\n",
    "\n",
    "# Draw the graph\n",
    "pos = nx.spring_layout(G)\n",
    "nx.draw(G, pos, with_labels=True)\n",
    "plt.show()\n",
    "\n",
    "# Define a function to execute the graph\n",
    "def execute_graph(G, inputs):\n",
    "    # Initialize a dictionary to store the output of each node\n",
    "    outputs = {}\n",
    "\n",
    "    # Execute each node in topological order\n",
    "    for node in nx.topological_sort(G):\n",
    "        function = G.nodes[node]['function']\n",
    "        if function in terminal_set:\n",
    "            # If the node is a terminal, its output is its value in the inputs dictionary\n",
    "            outputs[node] = inputs[function]\n",
    "        else:\n",
    "            # If the node is a function, its output is the result of applying its function to its inputs\n",
    "            inputs = [outputs[edge[0]] for edge in G.in_edges(node)]\n",
    "            if function == '+':\n",
    "                outputs[node] = sum(inputs)\n",
    "            elif function == '-':\n",
    "                outputs[node] = inputs[0] - inputs[1]\n",
    "            elif function == '*':\n",
    "                outputs[node] = inputs[0] * inputs[1]\n",
    "            elif function == '/':\n",
    "                outputs[node] = inputs[0] / inputs[1]\n",
    "\n",
    "    # The output of the graph is the output of the last node executed\n",
    "    return outputs[node]\n",
    "\n",
    "# Test the execute_graph function\n",
    "inputs = {'x': 1, 'y': 2, 'z': 3}\n",
    "print('Output:', execute_graph(G, inputs))\n"
   ]
  },
  {
   "cell_type": "code",
   "execution_count": 87,
   "metadata": {},
   "outputs": [
    {
     "data": {
      "image/png": "[encoded data removed]",
      "text/plain": [
       "<Figure size 640x480 with 1 Axes>"
      ]
     },
     "metadata": {},
     "output_type": "display_data"
    }
   ],
   "source": [
    "import numpy as np\n",
    "import networkx as nx\n",
    "import matplotlib.pyplot as plt\n",
    "\n",
    "class Node:\n",
    "    def __init__(self, function, connections, parameters, output_flag):\n",
    "        self.function = function\n",
    "        self.connections = connections\n",
    "        self.parameters = parameters\n",
    "        self.output_flag = output_flag\n",
    "\n",
    "class Individual:\n",
    "    def __init__(self, num_inputs, num_nodes):\n",
    "        self.num_inputs = num_inputs\n",
    "        self.num_nodes = num_nodes\n",
    "        self.nodes = [Node(None, None, None, None) for _ in range(num_nodes)]\n",
    "        self.graph = nx.DiGraph()\n",
    "\n",
    "    def initialize(self):\n",
    "        for i in range(self.num_nodes):\n",
    "            function_gene = np.random.randint(0, 2)\n",
    "            connection_genes = np.random.randint(0, i + self.num_inputs, size=2)\n",
    "            parameter_genes = np.random.rand(3)\n",
    "            output_gene = np.random.randint(0, 2)\n",
    "\n",
    "            self.nodes[i] = Node(function_gene, connection_genes, parameter_genes, output_gene)\n",
    "\n",
    "    def print_graph(self):\n",
    "        function_names = ['add', 'subtract', 'multiply', 'divide']\n",
    "        \n",
    "        for i in range(self.num_nodes):\n",
    "            node = self.nodes[i]\n",
    "            if node.output_flag:\n",
    "                node_name = f'Output {i}'\n",
    "            else:\n",
    "                # Assuming function_gene is an index into a list of function names  # replace with your actual function names\n",
    "                node_name = function_names[node.function]\n",
    "\n",
    "            self.graph.add_node(node_name)\n",
    "\n",
    "            for j in node.connections:\n",
    "                if j < self.num_inputs:\n",
    "                    connection_name = f'Input {j}'\n",
    "                else:\n",
    "                    connection_name = function_names[self.nodes[j - self.num_inputs].function]\n",
    "\n",
    "                if not self.graph.has_node(connection_name):\n",
    "                    self.graph.add_node(connection_name)\n",
    "\n",
    "                self.graph.add_edge(connection_name, node_name)\n",
    "\n",
    "        pos = nx.spring_layout(self.graph)\n",
    "        nx.draw(self.graph, pos, with_labels=True)\n",
    "        plt.show()\n",
    "    \n",
    "\n",
    "    def shift_connections(self, P0, P1, P2):\n",
    "        start_node = P0\n",
    "        num_nodes = P1\n",
    "        shift_value = P2\n",
    "\n",
    "        for i in range(start_node, start_node + num_nodes):\n",
    "            if i < self.num_nodes:\n",
    "                self.nodes[i].connections = (self.nodes[i].connections + shift_value) % (i + self.num_inputs)\n",
    "\n",
    "    def duplicate_and_scale_addresses(self, P0, P1, P2):\n",
    "        start_node = P0\n",
    "        num_nodes = P1\n",
    "        scale_factor = P2\n",
    "\n",
    "        if start_node + num_nodes > self.num_nodes:\n",
    "            return\n",
    "\n",
    "        new_nodes = []\n",
    "        for i in range(start_node, start_node + num_nodes):\n",
    "            function_gene = self.nodes[i].function\n",
    "            connection_genes = (self.nodes[i].connections * scale_factor) % (i + self.num_inputs)\n",
    "            parameter_genes = self.nodes[i].parameters\n",
    "            output_gene = self.nodes[i].output_flag\n",
    "\n",
    "            new_node = Node(function_gene, connection_genes, parameter_genes, output_gene)\n",
    "            new_nodes.append(new_node)\n",
    "\n",
    "        self.nodes = self.nodes[:start_node + num_nodes] + new_nodes + self.nodes[start_node + num_nodes:]\n",
    "        self.num_nodes += len(new_nodes)\n",
    "\n",
    "    # Numeric functions\n",
    "    def add(self, input1, input2):\n",
    "        return input1 + input2\n",
    "\n",
    "    def subtract(self, input1, input2):\n",
    "        return input1 - input2\n",
    "    \n",
    "    def mutate(self, mutation_rate):\n",
    "        for i in range(self.num_nodes):\n",
    "            if np.random.rand() < mutation_rate:\n",
    "                self.nodes[i].function = np.random.randint(0, 2)\n",
    "                self.nodes[i].connections = np.random.randint(0, i + self.num_inputs, size=2)\n",
    "                self.nodes[i].parameters = np.random.rand(3)\n",
    "                self.nodes[i].output_flag = np.random.randint(0, 2)\n",
    "    \n",
    "    def crossover(self, other):\n",
    "        child1 = Individual(self.num_inputs, self.num_nodes)\n",
    "        child2 = Individual(self.num_inputs, self.num_nodes)\n",
    "\n",
    "        crossover_point = np.random.randint(0, self.num_nodes)\n",
    "\n",
    "        child1.nodes[:crossover_point] = self.nodes[:crossover_point]\n",
    "        child1.nodes[crossover_point:] = other.nodes[crossover_point:]\n",
    "\n",
    "        child2.nodes[:crossover_point] = other.nodes[:crossover_point]\n",
    "        child2.nodes[crossover_point:] = self.nodes[crossover_point:]\n",
    "\n",
    "        return child1, child2\n",
    "    \n",
    "\n",
    "individual = Individual(num_inputs=2, num_nodes=10)\n",
    "individual.initialize()\n",
    "individual.print_graph()\n",
    "\n"
   ]
  }
 ],
 "metadata": {
  "kernelspec": {
   "display_name": "uni",
   "language": "python",
   "name": "python3"
  },
  "language_info": {
   "codemirror_mode": {
    "name": "ipython",
    "version": 3
   },
   "file_extension": ".py",
   "mimetype": "text/x-python",
   "name": "python",
   "nbconvert_exporter": "python",
   "pygments_lexer": "ipython3",
   "version": "3.10.13"
  }
 },
 "nbformat": 4,
 "nbformat_minor": 2
}
