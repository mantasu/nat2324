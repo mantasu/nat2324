{
 "cells": [
  {
   "cell_type": "code",
   "execution_count": 9,
   "metadata": {},
   "outputs": [
    {
     "name": "stdout",
     "output_type": "stream",
     "text": [
      "The autoreload extension is already loaded. To reload it, use:\n",
      "  %reload_ext autoreload\n"
     ]
    }
   ],
   "source": [
    "import sys\n",
    "import numpy as np\n",
    "\n",
    "sys.path.append(\"../src\")\n",
    "\n",
    "from nat2324.problems.sumplete import Sumplete\n",
    "from nat2324.algorithms.ga import BinaryGeneticAlgorithm\n",
    "\n",
    "%load_ext autoreload\n",
    "%autoreload 2"
   ]
  },
  {
   "cell_type": "code",
   "execution_count": 30,
   "metadata": {},
   "outputs": [],
   "source": [
    "sumplete = Sumplete(3, evaluation_type=\"absolute\")\n",
    "ga = BinaryGeneticAlgorithm(p_m=0.01)"
   ]
  },
  {
   "cell_type": "code",
   "execution_count": 20,
   "metadata": {},
   "outputs": [
    {
     "data": {
      "text/plain": [
       "0"
      ]
     },
     "execution_count": 20,
     "metadata": {},
     "output_type": "execute_result"
    }
   ],
   "source": [
    "a = sumplete.evaluate(np.array([0, 1, 0, 0, 1, 0, 0, 0, 1]))\n",
    "a"
   ]
  },
  {
   "cell_type": "code",
   "execution_count": 31,
   "metadata": {},
   "outputs": [
    {
     "name": "stderr",
     "output_type": "stream",
     "text": [
      "Current best: N/A:   0%|          | 0/100 [00:00<?, ?it/s]/home/mantasu/projects/nat2324/notebooks/../src/nat2324/algorithms/ga.py:100: RuntimeWarning: invalid value encountered in divide\n",
      "  p=fitness[~elites_mask] / fitness[~elites_mask].sum(),\n",
      "Current best: N/A:   0%|          | 0/100 [00:00<?, ?it/s]\n"
     ]
    },
    {
     "ename": "ValueError",
     "evalue": "probabilities contain NaN",
     "output_type": "error",
     "traceback": [
      "\u001b[0;31m---------------------------------------------------------------------------\u001b[0m",
      "\u001b[0;31mValueError\u001b[0m                                Traceback (most recent call last)",
      "\u001b[1;32m/home/mantasu/projects/nat2324/notebooks/problem2.ipynb Cell 4\u001b[0m line \u001b[0;36m1\n\u001b[0;32m----> <a href='vscode-notebook-cell://wsl%2Bubuntu/home/mantasu/projects/nat2324/notebooks/problem2.ipynb#W2sdnNjb2RlLXJlbW90ZQ%3D%3D?line=0'>1</a>\u001b[0m solution \u001b[39m=\u001b[39m ga\u001b[39m.\u001b[39;49moptimize(sumplete\u001b[39m.\u001b[39;49mevaluate)\n",
      "File \u001b[0;32m~/projects/nat2324/notebooks/../src/nat2324/algorithms/ga.py:246\u001b[0m, in \u001b[0;36mBinaryGeneticAlgorithm.optimize\u001b[0;34m(self, fitness_fn, max_generations, patience)\u001b[0m\n\u001b[1;32m    243\u001b[0m \u001b[39mfor\u001b[39;00m _ \u001b[39min\u001b[39;00m pbar:\n\u001b[1;32m    244\u001b[0m     \u001b[39m# Compute fitness for each individual, select the best\u001b[39;00m\n\u001b[1;32m    245\u001b[0m     fitness \u001b[39m=\u001b[39m np\u001b[39m.\u001b[39mapply_along_axis(fitness_fn, \u001b[39m1\u001b[39m, population)\n\u001b[0;32m--> 246\u001b[0m     parents \u001b[39m=\u001b[39m \u001b[39mself\u001b[39;49m\u001b[39m.\u001b[39;49mroulette_wheel_sampling(population, fitness)\n\u001b[1;32m    248\u001b[0m     \u001b[39m# Perform crossover and mutation to get the next generation\u001b[39;00m\n\u001b[1;32m    249\u001b[0m     children \u001b[39m=\u001b[39m \u001b[39mself\u001b[39m\u001b[39m.\u001b[39mn_point_crossover(parents)\n",
      "File \u001b[0;32m~/projects/nat2324/notebooks/../src/nat2324/algorithms/ga.py:97\u001b[0m, in \u001b[0;36mBinaryGeneticAlgorithm.roulette_wheel_sampling\u001b[0;34m(self, population, fitness)\u001b[0m\n\u001b[1;32m     94\u001b[0m elites \u001b[39m=\u001b[39m population[elites_mask]\n\u001b[1;32m     96\u001b[0m \u001b[39m# Get the non-elite members based on proportionate sampling\u001b[39;00m\n\u001b[0;32m---> 97\u001b[0m parents \u001b[39m=\u001b[39m np\u001b[39m.\u001b[39;49mrandom\u001b[39m.\u001b[39;49mdefault_rng()\u001b[39m.\u001b[39;49mchoice(\n\u001b[1;32m     98\u001b[0m     population[\u001b[39m~\u001b[39;49melites_mask],\n\u001b[1;32m     99\u001b[0m     size\u001b[39m=\u001b[39;49m\u001b[39mlen\u001b[39;49m(population) \u001b[39m-\u001b[39;49m \u001b[39mlen\u001b[39;49m(elites),\n\u001b[1;32m    100\u001b[0m     p\u001b[39m=\u001b[39;49mfitness[\u001b[39m~\u001b[39;49melites_mask] \u001b[39m/\u001b[39;49m fitness[\u001b[39m~\u001b[39;49melites_mask]\u001b[39m.\u001b[39;49msum(),\n\u001b[1;32m    101\u001b[0m )\n\u001b[1;32m    103\u001b[0m \u001b[39mreturn\u001b[39;00m np\u001b[39m.\u001b[39mvstack([elites, parents])\n",
      "File \u001b[0;32mnumpy/random/_generator.pyx:824\u001b[0m, in \u001b[0;36mnumpy.random._generator.Generator.choice\u001b[0;34m()\u001b[0m\n",
      "\u001b[0;31mValueError\u001b[0m: probabilities contain NaN"
     ]
    }
   ],
   "source": [
    "solution = ga.optimize(sumplete.evaluate)"
   ]
  }
 ],
 "metadata": {
  "kernelspec": {
   "display_name": "uni",
   "language": "python",
   "name": "python3"
  },
  "language_info": {
   "codemirror_mode": {
    "name": "ipython",
    "version": 3
   },
   "file_extension": ".py",
   "mimetype": "text/x-python",
   "name": "python",
   "nbconvert_exporter": "python",
   "pygments_lexer": "ipython3",
   "version": "3.10.13"
  }
 },
 "nbformat": 4,
 "nbformat_minor": 2
}
