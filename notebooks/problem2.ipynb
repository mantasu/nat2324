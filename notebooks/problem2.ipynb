{
 "cells": [
  {
   "cell_type": "code",
   "execution_count": 1,
   "metadata": {},
   "outputs": [],
   "source": [
    "import sys\n",
    "import numpy as np\n",
    "\n",
    "sys.path.append(\"../src\")\n",
    "\n",
    "from nat2324.problems.sumplete import Sumplete\n",
    "from nat2324.algorithms.ga import BinaryGeneticAlgorithm\n",
    "\n",
    "%load_ext autoreload\n",
    "%autoreload 2"
   ]
  },
  {
   "cell_type": "code",
   "execution_count": 2120,
   "metadata": {},
   "outputs": [],
   "source": [
    "sumplete = Sumplete(K=8, evaluation_type=\"sum\", low=1, high=9)\n",
    "ga = BinaryGeneticAlgorithm(\n",
    "    sumplete.evaluate,\n",
    "    N=1000,\n",
    "    D=sumplete.K**2,\n",
    "    p_m=0.35,\n",
    "    elite_frac=0.0,\n",
    "    num_cross_points=5,\n",
    "    mutation_type=\"row_col_gen\",\n",
    ")"
   ]
  },
  {
   "cell_type": "code",
   "execution_count": 2121,
   "metadata": {},
   "outputs": [
    {
     "data": {
      "application/vnd.jupyter.widget-view+json": {
       "model_id": "e6d92657d67e41309b69326493676b9c",
       "version_major": 2,
       "version_minor": 0
      },
      "text/plain": [
       "Current best 0.00000000:   0%|          | 0/1000 [00:00<?, ?it/s]"
      ]
     },
     "metadata": {},
     "output_type": "display_data"
    },
    {
     "ename": "KeyboardInterrupt",
     "evalue": "",
     "output_type": "error",
     "traceback": [
      "\u001b[0;31m---------------------------------------------------------------------------\u001b[0m",
      "\u001b[0;31mKeyboardInterrupt\u001b[0m                         Traceback (most recent call last)",
      "\u001b[1;32m/home/mantasu/projects/nat2324/notebooks/problem2.ipynb Cell 3\u001b[0m line \u001b[0;36m1\n\u001b[0;32m----> <a href='vscode-notebook-cell://wsl%2Bubuntu/home/mantasu/projects/nat2324/notebooks/problem2.ipynb#W2sdnNjb2RlLXJlbW90ZQ%3D%3D?line=0'>1</a>\u001b[0m solution \u001b[39m=\u001b[39m ga\u001b[39m.\u001b[39;49mrun(max_generations\u001b[39m=\u001b[39;49m\u001b[39m1000\u001b[39;49m, patience\u001b[39m=\u001b[39;49m\u001b[39m100000\u001b[39;49m, extra_return\u001b[39m=\u001b[39;49m(\u001b[39m\"\u001b[39;49m\u001b[39mscore\u001b[39;49m\u001b[39m\"\u001b[39;49m, \u001b[39m\"\u001b[39;49m\u001b[39mduration\u001b[39;49m\u001b[39m\"\u001b[39;49m, \u001b[39m\"\u001b[39;49m\u001b[39mnum_gens\u001b[39;49m\u001b[39m\"\u001b[39;49m, \u001b[39m\"\u001b[39;49m\u001b[39mlast_gen\u001b[39;49m\u001b[39m\"\u001b[39;49m, \u001b[39m\"\u001b[39;49m\u001b[39mlast_fitness\u001b[39;49m\u001b[39m\"\u001b[39;49m))\n",
      "File \u001b[0;32m~/projects/nat2324/notebooks/../src/nat2324/algorithms/base_runner.py:258\u001b[0m, in \u001b[0;36mBaseRunner.run\u001b[0;34m(self, max_generations, patience, extra_return, is_maximization, verbose)\u001b[0m\n\u001b[1;32m    254\u001b[0m pbar \u001b[39m=\u001b[39m tqdm(desc\u001b[39m=\u001b[39mdesc, total\u001b[39m=\u001b[39mmax_generations, disable\u001b[39m=\u001b[39m\u001b[39mnot\u001b[39;00m verbose)\n\u001b[1;32m    256\u001b[0m \u001b[39mfor\u001b[39;00m i \u001b[39min\u001b[39;00m \u001b[39mrange\u001b[39m(max_generations):\n\u001b[1;32m    257\u001b[0m     \u001b[39m# Evolve population and get the best individual + its score\u001b[39;00m\n\u001b[0;32m--> 258\u001b[0m     population, fitness, cache \u001b[39m=\u001b[39m \u001b[39mself\u001b[39;49m\u001b[39m.\u001b[39;49mevolve(population, fitness, \u001b[39m*\u001b[39;49mcache)\n\u001b[1;32m    259\u001b[0m     idx \u001b[39m=\u001b[39m np\u001b[39m.\u001b[39margmax(fitness) \u001b[39mif\u001b[39;00m is_maximization \u001b[39melse\u001b[39;00m np\u001b[39m.\u001b[39margmin(fitness)\n\u001b[1;32m    260\u001b[0m     solution, score \u001b[39m=\u001b[39m population[idx], fitness[idx]\n",
      "File \u001b[0;32m~/projects/nat2324/notebooks/../src/nat2324/algorithms/ga.py:130\u001b[0m, in \u001b[0;36mBinaryGeneticAlgorithm.evolve\u001b[0;34m(self, population, fitness, *cache)\u001b[0m\n\u001b[1;32m    109\u001b[0m \u001b[39m\u001b[39m\u001b[39m\"\"\"Performs a genetic algorithm optimization.\u001b[39;00m\n\u001b[1;32m    110\u001b[0m \n\u001b[1;32m    111\u001b[0m \u001b[39mThis function performs a genetic algorithm optimization for a\u001b[39;00m\n\u001b[0;32m   (...)\u001b[0m\n\u001b[1;32m    127\u001b[0m \u001b[39m    new population and its corresponding fitness scores.\u001b[39;00m\n\u001b[1;32m    128\u001b[0m \u001b[39m\"\"\"\u001b[39;00m\n\u001b[1;32m    129\u001b[0m \u001b[39m# Select parents, perform crossover and mutation\u001b[39;00m\n\u001b[0;32m--> 130\u001b[0m population, fitness \u001b[39m=\u001b[39m \u001b[39mself\u001b[39;49m\u001b[39m.\u001b[39;49mrefit(population, fitness)\n\u001b[1;32m    131\u001b[0m parents \u001b[39m=\u001b[39m \u001b[39mself\u001b[39m\u001b[39m.\u001b[39mroulette_wheel_sampling(population, fitness)\n\u001b[1;32m    132\u001b[0m children \u001b[39m=\u001b[39m \u001b[39mself\u001b[39m\u001b[39m.\u001b[39mn_point_crossover(parents)\n",
      "File \u001b[0;32m~/projects/nat2324/notebooks/../src/nat2324/algorithms/ga.py:195\u001b[0m, in \u001b[0;36mBinaryGeneticAlgorithm.refit\u001b[0;34m(self, population, fitness)\u001b[0m\n\u001b[1;32m    191\u001b[0m \u001b[39m# if (fitness >= 1).any():\u001b[39;00m\n\u001b[1;32m    192\u001b[0m \u001b[39m#     return population, fitness\u001b[39;00m\n\u001b[1;32m    194\u001b[0m non_global \u001b[39m=\u001b[39m fitness \u001b[39m<\u001b[39m \u001b[39m1\u001b[39m\n\u001b[0;32m--> 195\u001b[0m is_local \u001b[39m=\u001b[39m (population[:, \u001b[39mNone\u001b[39;49;00m, :] \u001b[39m==\u001b[39;49m \u001b[39mself\u001b[39;49m\u001b[39m.\u001b[39;49mlocal_bests)\u001b[39m.\u001b[39;49mall(axis\u001b[39m=\u001b[39;49m\u001b[39m2\u001b[39;49m)\n\u001b[1;32m    196\u001b[0m index \u001b[39m=\u001b[39m np\u001b[39m.\u001b[39mwhere(is_local \u001b[39m&\u001b[39m non_global[:, \u001b[39mNone\u001b[39;00m])[\u001b[39m1\u001b[39m] \u001b[39m# no need for list(set(...))\u001b[39;00m\n\u001b[1;32m    197\u001b[0m \u001b[39mself\u001b[39m\u001b[39m.\u001b[39mstagnation_counters[index] \u001b[39m+\u001b[39m\u001b[39m=\u001b[39m \u001b[39m1\u001b[39m\n",
      "File \u001b[0;32m~/programs/anaconda/envs/uni/lib/python3.10/site-packages/numpy/core/_methods.py:61\u001b[0m, in \u001b[0;36m_all\u001b[0;34m(a, axis, dtype, out, keepdims, where)\u001b[0m\n\u001b[1;32m     58\u001b[0m         \u001b[39mreturn\u001b[39;00m umr_any(a, axis, dtype, out, keepdims)\n\u001b[1;32m     59\u001b[0m     \u001b[39mreturn\u001b[39;00m umr_any(a, axis, dtype, out, keepdims, where\u001b[39m=\u001b[39mwhere)\n\u001b[0;32m---> 61\u001b[0m \u001b[39mdef\u001b[39;00m \u001b[39m_all\u001b[39m(a, axis\u001b[39m=\u001b[39m\u001b[39mNone\u001b[39;00m, dtype\u001b[39m=\u001b[39m\u001b[39mNone\u001b[39;00m, out\u001b[39m=\u001b[39m\u001b[39mNone\u001b[39;00m, keepdims\u001b[39m=\u001b[39m\u001b[39mFalse\u001b[39;00m, \u001b[39m*\u001b[39m, where\u001b[39m=\u001b[39m\u001b[39mTrue\u001b[39;00m):\n\u001b[1;32m     62\u001b[0m     \u001b[39m# Parsing keyword arguments is currently fairly slow, so avoid it for now\u001b[39;00m\n\u001b[1;32m     63\u001b[0m     \u001b[39mif\u001b[39;00m where \u001b[39mis\u001b[39;00m \u001b[39mTrue\u001b[39;00m:\n\u001b[1;32m     64\u001b[0m         \u001b[39mreturn\u001b[39;00m umr_all(a, axis, dtype, out, keepdims)\n",
      "\u001b[0;31mKeyboardInterrupt\u001b[0m: "
     ]
    }
   ],
   "source": [
    "solution = ga.run(max_generations=1000, patience=100000, extra_return=(\"score\", \"duration\", \"num_gens\", \"last_gen\", \"last_fitness\"))"
   ]
  },
  {
   "cell_type": "code",
   "execution_count": 2115,
   "metadata": {},
   "outputs": [
    {
     "data": {
      "text/plain": [
       "array([ 0.,  0.,  0.,  0.,  0.,  1.,  2.,  0.,  0.,  1.,  0.,  0.,  0.,\n",
       "        1.,  2.,  1.,  0.,  0.,  2.,  0.,  0.,  0.,  1.,  1.,  0.,  0.,\n",
       "        1.,  2.,  0.,  0.,  1.,  1.,  0.,  0.,  0.,  3.,  1.,  0.,  2.,\n",
       "        0.,  2.,  1.,  0.,  0.,  0.,  0.,  0.,  0.,  0.,  0.,  0.,  0.,\n",
       "        0.,  0.,  0.,  0.,  0.,  1.,  0.,  0.,  1.,  0.,  0.,  1.,  0.,\n",
       "        0.,  0.,  0.,  1.,  0.,  1.,  0.,  0.,  0.,  0.,  0.,  0.,  0.,\n",
       "        1.,  0.,  0.,  1.,  0.,  0.,  0.,  0.,  0.,  0.,  0.,  0.,  0.,\n",
       "        0.,  1.,  1.,  1.,  0.,  3.,  2.,  0.,  0.,  0.,  0.,  0.,  0.,\n",
       "        2.,  0.,  0.,  0.,  0.,  0.,  0.,  0.,  0.,  0.,  0.,  0.,  1.,\n",
       "        2.,  0.,  0.,  0.,  0.,  0.,  1.,  5.,  0.,  0.,  0., 10.,  0.])"
      ]
     },
     "execution_count": 2115,
     "metadata": {},
     "output_type": "execute_result"
    }
   ],
   "source": [
    "ga.stagnation_counters"
   ]
  },
  {
   "cell_type": "code",
   "execution_count": 1658,
   "metadata": {},
   "outputs": [
    {
     "data": {
      "text/plain": [
       "array([[0, 1, 0, 0, 1, 1, 1, 0, 0, 0, 1, 1, 1, 0, 1, 1, 0, 0, 1, 0],\n",
       "       [0, 1, 0, 0, 1, 1, 1, 0, 0, 0, 1, 1, 1, 0, 1, 1, 0, 0, 1, 0],\n",
       "       [0, 1, 0, 0, 1, 1, 1, 0, 0, 0, 1, 1, 1, 0, 1, 1, 0, 0, 1, 0],\n",
       "       [0, 1, 0, 0, 1, 1, 1, 0, 0, 0, 1, 1, 1, 0, 1, 1, 0, 0, 1, 0],\n",
       "       [0, 1, 0, 0, 1, 1, 1, 0, 0, 0, 1, 1, 1, 0, 1, 1, 0, 0, 1, 0],\n",
       "       [0, 1, 0, 0, 1, 1, 1, 0, 0, 0, 1, 1, 1, 0, 1, 1, 0, 0, 1, 0],\n",
       "       [0, 1, 0, 0, 1, 1, 1, 0, 0, 0, 1, 1, 1, 0, 1, 1, 0, 0, 1, 0],\n",
       "       [0, 1, 0, 0, 1, 1, 1, 0, 0, 0, 1, 1, 1, 0, 1, 1, 0, 0, 1, 0],\n",
       "       [0, 1, 0, 0, 1, 1, 1, 0, 0, 0, 1, 1, 1, 0, 1, 1, 0, 0, 1, 0],\n",
       "       [0, 1, 1, 0, 1, 1, 1, 0, 0, 0, 1, 1, 1, 0, 1, 1, 0, 0, 1, 0]])"
      ]
     },
     "execution_count": 1658,
     "metadata": {},
     "output_type": "execute_result"
    }
   ],
   "source": [
    "solution[-2][:10, :20]"
   ]
  },
  {
   "cell_type": "code",
   "execution_count": 1662,
   "metadata": {},
   "outputs": [
    {
     "data": {
      "text/plain": [
       "array([[0., 1., 0., 0., 1., 1., 1., 0., 0., 0., 1., 1., 1., 0., 0., 1.,\n",
       "        0., 0., 1., 0., 0., 0., 1., 0., 1., 0., 1., 1., 1., 1., 1., 1.,\n",
       "        1., 1., 1., 0., 0., 1., 1., 1., 1., 0., 0., 1., 0., 1., 1., 0.,\n",
       "        1.],\n",
       "       [0., 1., 0., 0., 1., 1., 1., 0., 0., 0., 1., 1., 1., 0., 1., 1.,\n",
       "        0., 0., 1., 0., 0., 0., 1., 0., 1., 0., 1., 1., 1., 1., 1., 1.,\n",
       "        1., 1., 1., 0., 0., 1., 1., 1., 1., 0., 0., 1., 0., 1., 1., 0.,\n",
       "        1.]])"
      ]
     },
     "execution_count": 1662,
     "metadata": {},
     "output_type": "execute_result"
    }
   ],
   "source": [
    "ga.local_bests[-2:, :]"
   ]
  },
  {
   "cell_type": "code",
   "execution_count": 1661,
   "metadata": {},
   "outputs": [
    {
     "data": {
      "text/plain": [
       "array([0, 1, 0, 0, 1, 1, 1, 0, 0, 0, 1, 1, 1, 0, 1, 1, 0, 0, 1, 0, 0, 0,\n",
       "       1, 0, 1, 0, 1, 1, 1, 1, 1, 1, 1, 1, 1, 0, 0, 1, 1, 1, 1, 0, 0, 1,\n",
       "       0, 1, 1, 0, 1])"
      ]
     },
     "execution_count": 1661,
     "metadata": {},
     "output_type": "execute_result"
    }
   ],
   "source": [
    "solution[0]"
   ]
  },
  {
   "cell_type": "code",
   "execution_count": 1130,
   "metadata": {},
   "outputs": [
    {
     "name": "stdout",
     "output_type": "stream",
     "text": [
      "[[False False  True]\n",
      " [False False False]\n",
      " [False False False]\n",
      " [False False False]\n",
      " [False False False]]\n"
     ]
    }
   ],
   "source": [
    "a = np.array([\n",
    "    [0, 1],\n",
    "    [2, 3],\n",
    "    [4, 5],\n",
    "    [6, 7],\n",
    "    [0, 1],\n",
    "])\n",
    "lbs = np.array([[1, 2], [3, 4], [0, 1]])\n",
    "cnt = np.array([0, 0, 0])\n",
    "mask = (a[:, None, :] == lbs).all(axis=2)\n",
    "print(mask & np.array([True, True, True, True, False])[:, None])"
   ]
  },
  {
   "cell_type": "code",
   "execution_count": 1660,
   "metadata": {},
   "outputs": [
    {
     "name": "stdout",
     "output_type": "stream",
     "text": [
      "+-------------------------------------------+\n",
      "|           5                 5     7     7 | 24\n",
      "|                       5     7     5       | 17\n",
      "|     6     2                 3             | 11\n",
      "|           5           5           3     1 | 14\n",
      "|     6     4     4     8     2     2     2 | 28\n",
      "|                 4     2     3     2       | 11\n",
      "|           6           2     7           3 | 18\n",
      "+-------------------------------------------+\n",
      "     12    22     8    22    27    19    13\n"
     ]
    }
   ],
   "source": [
    "sumplete.show(solution[0])"
   ]
  },
  {
   "cell_type": "code",
   "execution_count": 804,
   "metadata": {},
   "outputs": [
    {
     "name": "stdout",
     "output_type": "stream",
     "text": [
      "+-------------------------------------------+\n",
      "|     7     6     4     7     8     1     7 | 27\n",
      "|     6     1     6     5     8     3     7 | 22\n",
      "|     2     3     6     3     3     2     8 | 5\n",
      "|     6     7     1     3     1     5     8 | 25\n",
      "|     6     1     1     4     6     4     5 | 18\n",
      "|     3     2     1     1     3     8     1 | 11\n",
      "|     7     2     7     2     7     7     3 | 35\n",
      "+-------------------------------------------+\n",
      "     26    10    19    21    22    21    24\n"
     ]
    }
   ],
   "source": [
    "sumplete.show()"
   ]
  }
 ],
 "metadata": {
  "kernelspec": {
   "display_name": "uni",
   "language": "python",
   "name": "python3"
  },
  "language_info": {
   "codemirror_mode": {
    "name": "ipython",
    "version": 3
   },
   "file_extension": ".py",
   "mimetype": "text/x-python",
   "name": "python",
   "nbconvert_exporter": "python",
   "pygments_lexer": "ipython3",
   "version": "3.10.13"
  }
 },
 "nbformat": 4,
 "nbformat_minor": 2
}
